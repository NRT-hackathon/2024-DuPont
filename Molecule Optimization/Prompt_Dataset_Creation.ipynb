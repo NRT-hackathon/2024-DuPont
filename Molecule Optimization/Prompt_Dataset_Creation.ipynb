{
 "cells": [
  {
   "cell_type": "code",
   "execution_count": 6,
   "id": "0a4d7703",
   "metadata": {},
   "outputs": [],
   "source": [
    "import pandas as pd\n",
    "import json"
   ]
  },
  {
   "cell_type": "code",
   "execution_count": 7,
   "id": "af3e58b3",
   "metadata": {},
   "outputs": [
    {
     "data": {
      "text/html": [
       "<div>\n",
       "<style scoped>\n",
       "    .dataframe tbody tr th:only-of-type {\n",
       "        vertical-align: middle;\n",
       "    }\n",
       "\n",
       "    .dataframe tbody tr th {\n",
       "        vertical-align: top;\n",
       "    }\n",
       "\n",
       "    .dataframe thead th {\n",
       "        text-align: right;\n",
       "    }\n",
       "</style>\n",
       "<table border=\"1\" class=\"dataframe\">\n",
       "  <thead>\n",
       "    <tr style=\"text-align: right;\">\n",
       "      <th></th>\n",
       "      <th>E_homo</th>\n",
       "      <th>E_lumo</th>\n",
       "      <th>KS_gap</th>\n",
       "      <th>CAN_SMILES</th>\n",
       "      <th>MW</th>\n",
       "      <th>Highest Tanimoto Score</th>\n",
       "      <th>Most Similar SMILES</th>\n",
       "      <th>similar_homo</th>\n",
       "      <th>similar_lumo</th>\n",
       "      <th>similar_gap</th>\n",
       "    </tr>\n",
       "  </thead>\n",
       "  <tbody>\n",
       "    <tr>\n",
       "      <th>0</th>\n",
       "      <td>-5.17017</td>\n",
       "      <td>-2.28848</td>\n",
       "      <td>2.88169</td>\n",
       "      <td>C#Cc1[nH]ccc1c1csc2-c3c(C(=O)c12)ccs3</td>\n",
       "      <td>281.352</td>\n",
       "      <td>0.733333</td>\n",
       "      <td>CC#Cc1[nH]ccc1c1csc2-c3c(C(=O)c12)ccs3</td>\n",
       "      <td>-4.98513</td>\n",
       "      <td>-2.22317</td>\n",
       "      <td>2.76196</td>\n",
       "    </tr>\n",
       "    <tr>\n",
       "      <th>1</th>\n",
       "      <td>-5.29262</td>\n",
       "      <td>-2.47624</td>\n",
       "      <td>2.81638</td>\n",
       "      <td>O=C1c2c(-c3c1ccs3)scc2c1c2sccc2cc2c1ccs2</td>\n",
       "      <td>380.526</td>\n",
       "      <td>0.739130</td>\n",
       "      <td>Cc1csc2-c3c(C(=O)c12)c(cs3)c1c2sccc2cc2c1ccs2</td>\n",
       "      <td>-5.27357</td>\n",
       "      <td>-2.43542</td>\n",
       "      <td>2.83815</td>\n",
       "    </tr>\n",
       "    <tr>\n",
       "      <th>2</th>\n",
       "      <td>-5.30622</td>\n",
       "      <td>-2.40005</td>\n",
       "      <td>2.90617</td>\n",
       "      <td>Cc1sc2-c3sccc3C(=O)c2c1C1=CC(=C)c2c1csc2</td>\n",
       "      <td>338.466</td>\n",
       "      <td>0.777778</td>\n",
       "      <td>Cc1sc2-c3sccc3C(=O)c2c1C1=CC(=O)c2c1csc2</td>\n",
       "      <td>-5.56473</td>\n",
       "      <td>-2.58780</td>\n",
       "      <td>2.97693</td>\n",
       "    </tr>\n",
       "    <tr>\n",
       "      <th>3</th>\n",
       "      <td>-5.99195</td>\n",
       "      <td>-2.91162</td>\n",
       "      <td>3.08033</td>\n",
       "      <td>O=N(=O)c1cc2c(s1)c(sc2C(F)(F)F)c1csc2-c3c(C(=O...</td>\n",
       "      <td>443.463</td>\n",
       "      <td>0.714286</td>\n",
       "      <td>O=N(=O)c1cc2c(sc(c2cc1N(=O)=O)C(F)(F)F)c1csc2-...</td>\n",
       "      <td>-6.16882</td>\n",
       "      <td>-3.12659</td>\n",
       "      <td>3.04223</td>\n",
       "    </tr>\n",
       "    <tr>\n",
       "      <th>4</th>\n",
       "      <td>-5.31983</td>\n",
       "      <td>-2.44086</td>\n",
       "      <td>2.87897</td>\n",
       "      <td>Cc1cc2c(-c3c(C2=O)c(cs3)c2cc(ccc2N(=O)=O)c2csc...</td>\n",
       "      <td>409.501</td>\n",
       "      <td>0.759259</td>\n",
       "      <td>Cc1csc2-c3c(C(=O)c12)c(cs3)c1cc(ccc1N(=O)=O)c1...</td>\n",
       "      <td>-6.16882</td>\n",
       "      <td>-3.12659</td>\n",
       "      <td>3.04223</td>\n",
       "    </tr>\n",
       "  </tbody>\n",
       "</table>\n",
       "</div>"
      ],
      "text/plain": [
       "    E_homo   E_lumo   KS_gap  \\\n",
       "0 -5.17017 -2.28848  2.88169   \n",
       "1 -5.29262 -2.47624  2.81638   \n",
       "2 -5.30622 -2.40005  2.90617   \n",
       "3 -5.99195 -2.91162  3.08033   \n",
       "4 -5.31983 -2.44086  2.87897   \n",
       "\n",
       "                                          CAN_SMILES       MW  \\\n",
       "0              C#Cc1[nH]ccc1c1csc2-c3c(C(=O)c12)ccs3  281.352   \n",
       "1           O=C1c2c(-c3c1ccs3)scc2c1c2sccc2cc2c1ccs2  380.526   \n",
       "2           Cc1sc2-c3sccc3C(=O)c2c1C1=CC(=C)c2c1csc2  338.466   \n",
       "3  O=N(=O)c1cc2c(s1)c(sc2C(F)(F)F)c1csc2-c3c(C(=O...  443.463   \n",
       "4  Cc1cc2c(-c3c(C2=O)c(cs3)c2cc(ccc2N(=O)=O)c2csc...  409.501   \n",
       "\n",
       "   Highest Tanimoto Score                                Most Similar SMILES  \\\n",
       "0                0.733333             CC#Cc1[nH]ccc1c1csc2-c3c(C(=O)c12)ccs3   \n",
       "1                0.739130      Cc1csc2-c3c(C(=O)c12)c(cs3)c1c2sccc2cc2c1ccs2   \n",
       "2                0.777778           Cc1sc2-c3sccc3C(=O)c2c1C1=CC(=O)c2c1csc2   \n",
       "3                0.714286  O=N(=O)c1cc2c(sc(c2cc1N(=O)=O)C(F)(F)F)c1csc2-...   \n",
       "4                0.759259  Cc1csc2-c3c(C(=O)c12)c(cs3)c1cc(ccc1N(=O)=O)c1...   \n",
       "\n",
       "   similar_homo  similar_lumo  similar_gap  \n",
       "0      -4.98513      -2.22317      2.76196  \n",
       "1      -5.27357      -2.43542      2.83815  \n",
       "2      -5.56473      -2.58780      2.97693  \n",
       "3      -6.16882      -3.12659      3.04223  \n",
       "4      -6.16882      -3.12659      3.04223  "
      ]
     },
     "execution_count": 7,
     "metadata": {},
     "output_type": "execute_result"
    }
   ],
   "source": [
    "df = pd.read_csv('Similarity_SMILES.csv')\n",
    "similar_properties = df.merge(df[['CAN_SMILES', 'KS_gap']], left_on='Most Similar SMILES', right_on='CAN_SMILES', suffixes=('', '_similar'))\n",
    "\n",
    "# Adding new columns to the original DataFrame\n",
    "df['similar_gap'] = similar_properties['KS_gap_similar']\n",
    "df.head()"
   ]
  },
  {
   "cell_type": "code",
   "execution_count": 22,
   "id": "c9893a74",
   "metadata": {},
   "outputs": [
    {
     "name": "stdout",
     "output_type": "stream",
     "text": [
      "Conditional JSON templates with diversified language have been created and updated successfully.\n"
     ]
    }
   ],
   "source": [
    "def create_diverse_templates(row):\n",
    "    templates = []\n",
    "    # Handle cases where HOMO or LUMO values need adjustment\n",
    "    if row['E_homo'] < row['similar_homo']:\n",
    "        templates.append({\n",
    "            \"input\": f\"I have a compound represented by this SMILES code {row['CAN_SMILES']} and its HOMO value is currently at {row['E_homo']}. Give me similar SMILES elevating its homo value.\",\n",
    "            \"output\": f\"Explore the compound with SMILES {row['Most Similar SMILES']} which exhibits an augmented HOMO value of {row['similar_homo']} where we increased the homo value by {row['similar_homo'] - row['E_homo']}.\"\n",
    "        })\n",
    "    elif row['E_homo'] > row['similar_homo']:\n",
    "        templates.append({\n",
    "            \"input\": f\"I possess a compound represented by this SMILES code {row['CAN_SMILES']} and its HOMO value from {row['E_homo']}. Recommend adjustments SMILES to diminish homo value.\",\n",
    "            \"output\": f\"Examine the compound with SMILES {row['Most Similar SMILES']} showcasing a reduced HOMO value of {row['similar_homo']} where we reduced the homo value by {row['E_homo'] - row['similar_homo']}.\"\n",
    "        })\n",
    "\n",
    "    if row['E_lumo'] < row['similar_lumo']:\n",
    "        templates.append({\n",
    "            \"input\": f\"I possess a compound represented by this SMILES code {row['CAN_SMILES']}. Propose changes to boost its LUMO value currently at {row['E_lumo']}.\",\n",
    "            \"output\": f\"Explore the compound with SMILES {row['Most Similar SMILES']} which exhibits an augmented LUMO value of {row['similar_lumo']}.\"\n",
    "        })\n",
    "    elif row['E_lumo'] > row['similar_lumo']:\n",
    "        templates.append({\n",
    "            \"input\": f\"I know a compound represented by this SMILES code {row['CAN_SMILES']} and its LUMO value is {row['E_lumo']}. Propose similar SMILES decreasing LUMO value.\",\n",
    "            \"output\": f\"Examine the compound with SMILES {row['Most Similar SMILES']} showcasing a reduced LUMO value of {row['similar_lumo']} where we reduced lumo level by {row['E_lumo'] - row['similar_lumo']}.\"\n",
    "        })\n",
    "\n",
    "    # Handle complex scenarios where both values change\n",
    "    if (row['E_homo'] < row['similar_homo']) and (row['E_lumo'] < row['similar_lumo']):\n",
    "        templates.append({\n",
    "            \"input\": f\"Propose a compound similar to SMILES {row['CAN_SMILES']} with elevated HOMO and LUMO values.\",\n",
    "            \"output\": f\"Consider the compound {row['Most Similar SMILES']} with enhanced HOMO value of ({row['similar_homo']}) and LUMO value of ({row['similar_lumo']}) levels.\"\n",
    "        })\n",
    "    if (row['E_homo'] > row['similar_homo']) and (row['E_lumo'] > row['similar_lumo']):\n",
    "        templates.append({\n",
    "            \"input\": f\"Recommend a compound similar to {row['CAN_SMILES']} with lowered HOMO and LUMO values.\",\n",
    "            \"output\": f\"Examine the compound {row['Most Similar SMILES']} with diminished HOMO value of ({row['similar_homo']}) and LUMO value of ({row['similar_lumo']}) levels.\"\n",
    "        })\n",
    "    if (row['E_homo'] < row['similar_homo']) and (row['E_lumo'] > row['similar_lumo']):\n",
    "        templates.append({\n",
    "            \"input\": f\"Propose a compound similar to {row['CAN_SMILES']} with an elevated HOMO and a lowered LUMO.\",\n",
    "            \"output\": f\"Consider the compound {row['Most Similar SMILES']} with an enhanced HOMO ({row['similar_homo']}) and diminished LUMO ({row['similar_lumo']}).\"\n",
    "        })\n",
    "    if (row['E_homo'] > row['similar_homo']) and (row['E_lumo'] < row['similar_lumo']):\n",
    "        templates.append({\n",
    "            \"input\": f\"Recommend a compound similar to {row['CAN_SMILES']} with a lowered HOMO and an elevated LUMO.\",\n",
    "            \"output\": f\"Examine the compound {row['Most Similar SMILES']} with a diminished HOMO value of ({row['similar_homo']}) and enhanced LUMO value of ({row['similar_lumo']}).\"\n",
    "        })\n",
    "\n",
    "    templates.append({\n",
    "    \"input\": f\"Identify a SMILES structure with a HOMO-LUMO gap similar to that of the molecule represented by {row['CAN_SMILES']}.\",\n",
    "    \"output\": f\"The molecular gap between HOMO and LUMO for the molecule with SMILES {row['CAN_SMILES']} is {row['KS_gap']} eV. A closely related structure with a comparable gap of {row['similar_gap']} eV is represented by the SMILES {row['Most Similar SMILES']}.\"\n",
    "})\n",
    "\n",
    "    return templates\n",
    "\n",
    "json_data = [item for sublist in df.apply(create_diverse_templates, axis=1) for item in sublist]\n",
    "\n",
    "# Save to JSON file\n",
    "import json\n",
    "with open('prompt_dataset.jsonl', 'w') as f:\n",
    "    json.dump(json_data, f, indent=4)\n",
    "\n",
    "print(\"Conditional JSON templates with diversified language have been created and updated successfully.\")\n"
   ]
  },
  {
   "cell_type": "code",
   "execution_count": 11,
   "id": "14ab43fb",
   "metadata": {},
   "outputs": [
    {
     "name": "stdout",
     "output_type": "stream",
     "text": [
      "0    <s>[INST] Me gradué hace poco de la carrera de...\n",
      "Name: text, dtype: object\n"
     ]
    }
   ],
   "source": [
    "print(df.head(1)['text'])"
   ]
  },
  {
   "cell_type": "code",
   "execution_count": 24,
   "id": "ce8212c6",
   "metadata": {},
   "outputs": [
    {
     "name": "stdout",
     "output_type": "stream",
     "text": [
      "There are 376811 prompts in the JSON file.\n"
     ]
    }
   ],
   "source": [
    "import json\n",
    "file_path = 'prompt_dataset_v2.jsonl'\n",
    "with open(file_path, 'r') as file:\n",
    "    data = json.load(file)\n",
    "number_of_prompts = len(data)\n",
    "\n",
    "print(f'There are {number_of_prompts} prompts in the JSON file.')"
   ]
  },
  {
   "cell_type": "code",
   "execution_count": 20,
   "id": "3dfffee6",
   "metadata": {},
   "outputs": [
    {
     "data": {
      "text/plain": [
       "'### Question: I possess a compound represented by this SMILES code C#Cc1[nH]ccc1c1csc2-c3c(C(=O)c12)ccs3. Propose changes to elevate its HOMO value currently at -5.17017.\\n ### Answer: Explore the compound with SMILES CC#Cc1[nH]ccc1c1csc2-c3c(C(=O)c12)ccs3 which exhibits an augmented HOMO value of -4.98513.'"
      ]
     },
     "execution_count": 20,
     "metadata": {},
     "output_type": "execute_result"
    }
   ],
   "source": [
    "def formatting_func(example):\n",
    "    text = f\"### Question: {example['input']}\\n ### Answer: {example['output']}\"\n",
    "    return text\n",
    "formatting_func(data[0])"
   ]
  },
  {
   "cell_type": "code",
   "execution_count": 25,
   "id": "ca7d0a43",
   "metadata": {},
   "outputs": [
    {
     "name": "stdout",
     "output_type": "stream",
     "text": [
      "Plot saved to ./plots\\input_ids_length_distribution.png\n"
     ]
    }
   ],
   "source": [
    "# Plotting function\n",
    "def plot_data_lengths(tokenized_data):\n",
    "    lengths = [len(x['input_ids']) for x in tokenized_data]\n",
    "\n",
    "    if not os.path.exists(save_dir):\n",
    "        os.makedirs(save_dir)\n",
    "\n",
    "    plt.figure(figsize=(10, 6))\n",
    "    plt.hist(lengths, bins=20, alpha=0.7, color='blue')\n",
    "    plt.xlabel('Length of input_ids')\n",
    "    plt.ylabel('Frequency')\n",
    "    plt.title('Distribution of Lengths of input_ids')\n",
    "\n",
    "    file_path = os.path.join(save_dir, 'input_ids_length_distribution.png')\n",
    "    plt.show()\n",
    "plot_data_lengths(tokenized_data)"
   ]
  },
  {
   "cell_type": "code",
   "execution_count": null,
   "id": "030e1321",
   "metadata": {},
   "outputs": [],
   "source": []
  }
 ],
 "metadata": {
  "kernelspec": {
   "display_name": "Python 3 (ipykernel)",
   "language": "python",
   "name": "python3"
  },
  "language_info": {
   "codemirror_mode": {
    "name": "ipython",
    "version": 3
   },
   "file_extension": ".py",
   "mimetype": "text/x-python",
   "name": "python",
   "nbconvert_exporter": "python",
   "pygments_lexer": "ipython3",
   "version": "3.11.5"
  }
 },
 "nbformat": 4,
 "nbformat_minor": 5
}
